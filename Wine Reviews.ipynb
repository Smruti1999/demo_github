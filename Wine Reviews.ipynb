{
 "cells": [
  {
   "cell_type": "code",
   "execution_count": 2,
   "id": "906f28fb",
   "metadata": {},
   "outputs": [],
   "source": [
    "import numpy as np\n",
    "import pandas as pd\n",
    "import matplotlib.pyplot as plt\n",
    "from sklearn.model_selection import train_test_split"
   ]
  },
  {
   "cell_type": "code",
   "execution_count": 3,
   "id": "c1429134",
   "metadata": {},
   "outputs": [],
   "source": [
    "data=pd.read_csv('winemag-data_first150k.csv')"
   ]
  },
  {
   "cell_type": "code",
   "execution_count": 121,
   "id": "c6305bb5",
   "metadata": {},
   "outputs": [
    {
     "data": {
      "text/plain": [
       "(150930, 11)"
      ]
     },
     "execution_count": 121,
     "metadata": {},
     "output_type": "execute_result"
    }
   ],
   "source": [
    "data.shape"
   ]
  },
  {
   "cell_type": "code",
   "execution_count": 122,
   "id": "9f3d3e43",
   "metadata": {},
   "outputs": [
    {
     "data": {
      "text/plain": [
       "Unnamed: 0       int64\n",
       "country         object\n",
       "description     object\n",
       "designation     object\n",
       "points           int64\n",
       "price          float64\n",
       "province        object\n",
       "region_1        object\n",
       "region_2        object\n",
       "variety         object\n",
       "winery          object\n",
       "dtype: object"
      ]
     },
     "execution_count": 122,
     "metadata": {},
     "output_type": "execute_result"
    }
   ],
   "source": [
    "data.dtypes"
   ]
  },
  {
   "cell_type": "code",
   "execution_count": 123,
   "id": "6eef2d18",
   "metadata": {},
   "outputs": [
    {
     "name": "stdout",
     "output_type": "stream",
     "text": [
      "<class 'pandas.core.frame.DataFrame'>\n",
      "RangeIndex: 150930 entries, 0 to 150929\n",
      "Data columns (total 11 columns):\n",
      " #   Column       Non-Null Count   Dtype  \n",
      "---  ------       --------------   -----  \n",
      " 0   Unnamed: 0   150930 non-null  int64  \n",
      " 1   country      150925 non-null  object \n",
      " 2   description  150930 non-null  object \n",
      " 3   designation  105195 non-null  object \n",
      " 4   points       150930 non-null  int64  \n",
      " 5   price        137235 non-null  float64\n",
      " 6   province     150925 non-null  object \n",
      " 7   region_1     125870 non-null  object \n",
      " 8   region_2     60953 non-null   object \n",
      " 9   variety      150930 non-null  object \n",
      " 10  winery       150930 non-null  object \n",
      "dtypes: float64(1), int64(2), object(8)\n",
      "memory usage: 12.7+ MB\n"
     ]
    }
   ],
   "source": [
    "#There are total 150930 rows. There are null values in country, designation, price, province, region1 and region2\n",
    "data.info()"
   ]
  },
  {
   "cell_type": "code",
   "execution_count": 124,
   "id": "1f65281c",
   "metadata": {},
   "outputs": [
    {
     "data": {
      "text/html": [
       "<div>\n",
       "<style scoped>\n",
       "    .dataframe tbody tr th:only-of-type {\n",
       "        vertical-align: middle;\n",
       "    }\n",
       "\n",
       "    .dataframe tbody tr th {\n",
       "        vertical-align: top;\n",
       "    }\n",
       "\n",
       "    .dataframe thead th {\n",
       "        text-align: right;\n",
       "    }\n",
       "</style>\n",
       "<table border=\"1\" class=\"dataframe\">\n",
       "  <thead>\n",
       "    <tr style=\"text-align: right;\">\n",
       "      <th></th>\n",
       "      <th>Unnamed: 0</th>\n",
       "      <th>country</th>\n",
       "      <th>description</th>\n",
       "      <th>designation</th>\n",
       "      <th>points</th>\n",
       "      <th>price</th>\n",
       "      <th>province</th>\n",
       "      <th>region_1</th>\n",
       "      <th>region_2</th>\n",
       "      <th>variety</th>\n",
       "      <th>winery</th>\n",
       "    </tr>\n",
       "  </thead>\n",
       "  <tbody>\n",
       "    <tr>\n",
       "      <th>0</th>\n",
       "      <td>0</td>\n",
       "      <td>US</td>\n",
       "      <td>This tremendous 100% varietal wine hails from ...</td>\n",
       "      <td>Martha's Vineyard</td>\n",
       "      <td>96</td>\n",
       "      <td>235.0</td>\n",
       "      <td>California</td>\n",
       "      <td>Napa Valley</td>\n",
       "      <td>Napa</td>\n",
       "      <td>Cabernet Sauvignon</td>\n",
       "      <td>Heitz</td>\n",
       "    </tr>\n",
       "    <tr>\n",
       "      <th>1</th>\n",
       "      <td>1</td>\n",
       "      <td>Spain</td>\n",
       "      <td>Ripe aromas of fig, blackberry and cassis are ...</td>\n",
       "      <td>Carodorum Selección Especial Reserva</td>\n",
       "      <td>96</td>\n",
       "      <td>110.0</td>\n",
       "      <td>Northern Spain</td>\n",
       "      <td>Toro</td>\n",
       "      <td>NaN</td>\n",
       "      <td>Tinta de Toro</td>\n",
       "      <td>Bodega Carmen Rodríguez</td>\n",
       "    </tr>\n",
       "    <tr>\n",
       "      <th>2</th>\n",
       "      <td>2</td>\n",
       "      <td>US</td>\n",
       "      <td>Mac Watson honors the memory of a wine once ma...</td>\n",
       "      <td>Special Selected Late Harvest</td>\n",
       "      <td>96</td>\n",
       "      <td>90.0</td>\n",
       "      <td>California</td>\n",
       "      <td>Knights Valley</td>\n",
       "      <td>Sonoma</td>\n",
       "      <td>Sauvignon Blanc</td>\n",
       "      <td>Macauley</td>\n",
       "    </tr>\n",
       "    <tr>\n",
       "      <th>3</th>\n",
       "      <td>3</td>\n",
       "      <td>US</td>\n",
       "      <td>This spent 20 months in 30% new French oak, an...</td>\n",
       "      <td>Reserve</td>\n",
       "      <td>96</td>\n",
       "      <td>65.0</td>\n",
       "      <td>Oregon</td>\n",
       "      <td>Willamette Valley</td>\n",
       "      <td>Willamette Valley</td>\n",
       "      <td>Pinot Noir</td>\n",
       "      <td>Ponzi</td>\n",
       "    </tr>\n",
       "    <tr>\n",
       "      <th>4</th>\n",
       "      <td>4</td>\n",
       "      <td>France</td>\n",
       "      <td>This is the top wine from La Bégude, named aft...</td>\n",
       "      <td>La Brûlade</td>\n",
       "      <td>95</td>\n",
       "      <td>66.0</td>\n",
       "      <td>Provence</td>\n",
       "      <td>Bandol</td>\n",
       "      <td>NaN</td>\n",
       "      <td>Provence red blend</td>\n",
       "      <td>Domaine de la Bégude</td>\n",
       "    </tr>\n",
       "    <tr>\n",
       "      <th>5</th>\n",
       "      <td>5</td>\n",
       "      <td>Spain</td>\n",
       "      <td>Deep, dense and pure from the opening bell, th...</td>\n",
       "      <td>Numanthia</td>\n",
       "      <td>95</td>\n",
       "      <td>73.0</td>\n",
       "      <td>Northern Spain</td>\n",
       "      <td>Toro</td>\n",
       "      <td>NaN</td>\n",
       "      <td>Tinta de Toro</td>\n",
       "      <td>Numanthia</td>\n",
       "    </tr>\n",
       "    <tr>\n",
       "      <th>6</th>\n",
       "      <td>6</td>\n",
       "      <td>Spain</td>\n",
       "      <td>Slightly gritty black-fruit aromas include a s...</td>\n",
       "      <td>San Román</td>\n",
       "      <td>95</td>\n",
       "      <td>65.0</td>\n",
       "      <td>Northern Spain</td>\n",
       "      <td>Toro</td>\n",
       "      <td>NaN</td>\n",
       "      <td>Tinta de Toro</td>\n",
       "      <td>Maurodos</td>\n",
       "    </tr>\n",
       "    <tr>\n",
       "      <th>7</th>\n",
       "      <td>7</td>\n",
       "      <td>Spain</td>\n",
       "      <td>Lush cedary black-fruit aromas are luxe and of...</td>\n",
       "      <td>Carodorum Único Crianza</td>\n",
       "      <td>95</td>\n",
       "      <td>110.0</td>\n",
       "      <td>Northern Spain</td>\n",
       "      <td>Toro</td>\n",
       "      <td>NaN</td>\n",
       "      <td>Tinta de Toro</td>\n",
       "      <td>Bodega Carmen Rodríguez</td>\n",
       "    </tr>\n",
       "    <tr>\n",
       "      <th>8</th>\n",
       "      <td>8</td>\n",
       "      <td>US</td>\n",
       "      <td>This re-named vineyard was formerly bottled as...</td>\n",
       "      <td>Silice</td>\n",
       "      <td>95</td>\n",
       "      <td>65.0</td>\n",
       "      <td>Oregon</td>\n",
       "      <td>Chehalem Mountains</td>\n",
       "      <td>Willamette Valley</td>\n",
       "      <td>Pinot Noir</td>\n",
       "      <td>Bergström</td>\n",
       "    </tr>\n",
       "    <tr>\n",
       "      <th>9</th>\n",
       "      <td>9</td>\n",
       "      <td>US</td>\n",
       "      <td>The producer sources from two blocks of the vi...</td>\n",
       "      <td>Gap's Crown Vineyard</td>\n",
       "      <td>95</td>\n",
       "      <td>60.0</td>\n",
       "      <td>California</td>\n",
       "      <td>Sonoma Coast</td>\n",
       "      <td>Sonoma</td>\n",
       "      <td>Pinot Noir</td>\n",
       "      <td>Blue Farm</td>\n",
       "    </tr>\n",
       "  </tbody>\n",
       "</table>\n",
       "</div>"
      ],
      "text/plain": [
       "   Unnamed: 0 country                                        description  \\\n",
       "0           0      US  This tremendous 100% varietal wine hails from ...   \n",
       "1           1   Spain  Ripe aromas of fig, blackberry and cassis are ...   \n",
       "2           2      US  Mac Watson honors the memory of a wine once ma...   \n",
       "3           3      US  This spent 20 months in 30% new French oak, an...   \n",
       "4           4  France  This is the top wine from La Bégude, named aft...   \n",
       "5           5   Spain  Deep, dense and pure from the opening bell, th...   \n",
       "6           6   Spain  Slightly gritty black-fruit aromas include a s...   \n",
       "7           7   Spain  Lush cedary black-fruit aromas are luxe and of...   \n",
       "8           8      US  This re-named vineyard was formerly bottled as...   \n",
       "9           9      US  The producer sources from two blocks of the vi...   \n",
       "\n",
       "                            designation  points  price        province  \\\n",
       "0                     Martha's Vineyard      96  235.0      California   \n",
       "1  Carodorum Selección Especial Reserva      96  110.0  Northern Spain   \n",
       "2         Special Selected Late Harvest      96   90.0      California   \n",
       "3                               Reserve      96   65.0          Oregon   \n",
       "4                            La Brûlade      95   66.0        Provence   \n",
       "5                             Numanthia      95   73.0  Northern Spain   \n",
       "6                             San Román      95   65.0  Northern Spain   \n",
       "7               Carodorum Único Crianza      95  110.0  Northern Spain   \n",
       "8                                Silice      95   65.0          Oregon   \n",
       "9                  Gap's Crown Vineyard      95   60.0      California   \n",
       "\n",
       "             region_1           region_2             variety  \\\n",
       "0         Napa Valley               Napa  Cabernet Sauvignon   \n",
       "1                Toro                NaN       Tinta de Toro   \n",
       "2      Knights Valley             Sonoma     Sauvignon Blanc   \n",
       "3   Willamette Valley  Willamette Valley          Pinot Noir   \n",
       "4              Bandol                NaN  Provence red blend   \n",
       "5                Toro                NaN       Tinta de Toro   \n",
       "6                Toro                NaN       Tinta de Toro   \n",
       "7                Toro                NaN       Tinta de Toro   \n",
       "8  Chehalem Mountains  Willamette Valley          Pinot Noir   \n",
       "9        Sonoma Coast             Sonoma          Pinot Noir   \n",
       "\n",
       "                    winery  \n",
       "0                    Heitz  \n",
       "1  Bodega Carmen Rodríguez  \n",
       "2                 Macauley  \n",
       "3                    Ponzi  \n",
       "4     Domaine de la Bégude  \n",
       "5                Numanthia  \n",
       "6                 Maurodos  \n",
       "7  Bodega Carmen Rodríguez  \n",
       "8                Bergström  \n",
       "9                Blue Farm  "
      ]
     },
     "execution_count": 124,
     "metadata": {},
     "output_type": "execute_result"
    }
   ],
   "source": [
    "data.head(10)"
   ]
  },
  {
   "cell_type": "markdown",
   "id": "69c10337",
   "metadata": {},
   "source": [
    "# Data Preprocessing"
   ]
  },
  {
   "cell_type": "markdown",
   "id": "898a29bd",
   "metadata": {},
   "source": [
    "### Managing missing data"
   ]
  },
  {
   "cell_type": "code",
   "execution_count": 134,
   "id": "b55a7e27",
   "metadata": {},
   "outputs": [
    {
     "data": {
      "text/plain": [
       "174477"
      ]
     },
     "execution_count": 134,
     "metadata": {},
     "output_type": "execute_result"
    }
   ],
   "source": [
    "#Total null values:\n",
    "data.isnull().sum().sum()"
   ]
  },
  {
   "cell_type": "code",
   "execution_count": 129,
   "id": "c4b48554",
   "metadata": {},
   "outputs": [
    {
     "name": "stdout",
     "output_type": "stream",
     "text": [
      "<class 'pandas.core.frame.DataFrame'>\n",
      "RangeIndex: 150930 entries, 0 to 150929\n",
      "Data columns (total 11 columns):\n",
      " #   Column       Non-Null Count   Dtype  \n",
      "---  ------       --------------   -----  \n",
      " 0   Unnamed: 0   150930 non-null  int64  \n",
      " 1   country      150925 non-null  object \n",
      " 2   description  150930 non-null  object \n",
      " 3   designation  105195 non-null  object \n",
      " 4   points       150930 non-null  int64  \n",
      " 5   price        137235 non-null  float64\n",
      " 6   province     150925 non-null  object \n",
      " 7   region_1     125870 non-null  object \n",
      " 8   region_2     60953 non-null   object \n",
      " 9   variety      150930 non-null  object \n",
      " 10  winery       150930 non-null  object \n",
      "dtypes: float64(1), int64(2), object(8)\n",
      "memory usage: 12.7+ MB\n"
     ]
    }
   ],
   "source": [
    "data.info()"
   ]
  },
  {
   "cell_type": "code",
   "execution_count": 131,
   "id": "a976cc4e",
   "metadata": {},
   "outputs": [],
   "source": [
    "#group the points of wine by country"
   ]
  },
  {
   "cell_type": "code",
   "execution_count": 132,
   "id": "8b7c1572",
   "metadata": {},
   "outputs": [
    {
     "data": {
      "text/plain": [
       "country\n",
       "Albania                   88.000000\n",
       "Argentina                 85.996093\n",
       "Australia                 87.892475\n",
       "Austria                   89.276742\n",
       "Bosnia and Herzegovina    84.750000\n",
       "Brazil                    83.240000\n",
       "Bulgaria                  85.467532\n",
       "Canada                    88.239796\n",
       "Chile                     86.296768\n",
       "China                     82.000000\n",
       "Croatia                   86.280899\n",
       "Cyprus                    85.870968\n",
       "Czech Republic            85.833333\n",
       "Egypt                     83.666667\n",
       "England                   92.888889\n",
       "France                    88.925870\n",
       "Georgia                   85.511628\n",
       "Germany                   88.626427\n",
       "Greece                    86.117647\n",
       "Hungary                   87.329004\n",
       "India                     87.625000\n",
       "Israel                    87.176190\n",
       "Italy                     88.413664\n",
       "Japan                     85.000000\n",
       "Lebanon                   85.702703\n",
       "Lithuania                 84.250000\n",
       "Luxembourg                87.000000\n",
       "Macedonia                 84.812500\n",
       "Mexico                    84.761905\n",
       "Moldova                   84.718310\n",
       "Montenegro                82.000000\n",
       "Morocco                   88.166667\n",
       "New Zealand               87.554217\n",
       "Portugal                  88.057685\n",
       "Romania                   84.920863\n",
       "Serbia                    87.714286\n",
       "Slovakia                  83.666667\n",
       "Slovenia                  88.234043\n",
       "South Africa              87.225421\n",
       "South Korea               81.500000\n",
       "Spain                     86.646589\n",
       "Switzerland               87.250000\n",
       "Tunisia                   86.000000\n",
       "Turkey                    88.096154\n",
       "US                        87.818789\n",
       "US-France                 88.000000\n",
       "Ukraine                   84.600000\n",
       "Uruguay                   84.478261\n",
       "Name: points, dtype: float64"
      ]
     },
     "execution_count": 132,
     "metadata": {},
     "output_type": "execute_result"
    }
   ],
   "source": [
    "data.groupby('country').points.mean()"
   ]
  },
  {
   "cell_type": "markdown",
   "id": "729ed728",
   "metadata": {},
   "source": [
    "### missing values:"
   ]
  },
  {
   "cell_type": "code",
   "execution_count": 137,
   "id": "e3571de0",
   "metadata": {},
   "outputs": [
    {
     "data": {
      "text/plain": [
       "Unnamed: 0      0.000000\n",
       "country         0.003313\n",
       "description     0.000000\n",
       "designation    30.302127\n",
       "points          0.000000\n",
       "price           9.073743\n",
       "province        0.003313\n",
       "region_1       16.603724\n",
       "region_2       59.615053\n",
       "variety         0.000000\n",
       "winery          0.000000\n",
       "dtype: float64"
      ]
     },
     "execution_count": 137,
     "metadata": {},
     "output_type": "execute_result"
    }
   ],
   "source": [
    "data.isnull().mean()*100"
   ]
  },
  {
   "cell_type": "markdown",
   "id": "e6b7ddc9",
   "metadata": {},
   "source": [
    "### 1. remove rows\n",
    "#### We can remove the rows with missing data less than 5% of the total values in the row."
   ]
  },
  {
   "cell_type": "code",
   "execution_count": 145,
   "id": "7aa14efd",
   "metadata": {},
   "outputs": [
    {
     "data": {
      "text/plain": [
       "['country', 'province']"
      ]
     },
     "execution_count": 145,
     "metadata": {},
     "output_type": "execute_result"
    }
   ],
   "source": [
    "cols=[x for x in data.columns if data[x].isnull().mean() < 0.05 and data[x].isnull().mean() > 0]\n",
    "cols"
   ]
  },
  {
   "cell_type": "code",
   "execution_count": 148,
   "id": "b18ca3ef",
   "metadata": {},
   "outputs": [
    {
     "data": {
      "text/html": [
       "<div>\n",
       "<style scoped>\n",
       "    .dataframe tbody tr th:only-of-type {\n",
       "        vertical-align: middle;\n",
       "    }\n",
       "\n",
       "    .dataframe tbody tr th {\n",
       "        vertical-align: top;\n",
       "    }\n",
       "\n",
       "    .dataframe thead th {\n",
       "        text-align: right;\n",
       "    }\n",
       "</style>\n",
       "<table border=\"1\" class=\"dataframe\">\n",
       "  <thead>\n",
       "    <tr style=\"text-align: right;\">\n",
       "      <th></th>\n",
       "      <th>country</th>\n",
       "      <th>province</th>\n",
       "    </tr>\n",
       "  </thead>\n",
       "  <tbody>\n",
       "    <tr>\n",
       "      <th>99946</th>\n",
       "      <td>Portugal</td>\n",
       "      <td>Douro</td>\n",
       "    </tr>\n",
       "    <tr>\n",
       "      <th>93706</th>\n",
       "      <td>US</td>\n",
       "      <td>California</td>\n",
       "    </tr>\n",
       "    <tr>\n",
       "      <th>59162</th>\n",
       "      <td>Italy</td>\n",
       "      <td>Southern Italy</td>\n",
       "    </tr>\n",
       "    <tr>\n",
       "      <th>53205</th>\n",
       "      <td>US</td>\n",
       "      <td>California</td>\n",
       "    </tr>\n",
       "    <tr>\n",
       "      <th>84272</th>\n",
       "      <td>US</td>\n",
       "      <td>New York</td>\n",
       "    </tr>\n",
       "  </tbody>\n",
       "</table>\n",
       "</div>"
      ],
      "text/plain": [
       "        country        province\n",
       "99946  Portugal           Douro\n",
       "93706        US      California\n",
       "59162     Italy  Southern Italy\n",
       "53205        US      California\n",
       "84272        US        New York"
      ]
     },
     "execution_count": 148,
     "metadata": {},
     "output_type": "execute_result"
    }
   ],
   "source": [
    "data[cols].sample(5)"
   ]
  },
  {
   "cell_type": "code",
   "execution_count": 149,
   "id": "42b32a07",
   "metadata": {},
   "outputs": [],
   "source": [
    "# data left after dropping the columns"
   ]
  },
  {
   "cell_type": "code",
   "execution_count": 150,
   "id": "d7ead956",
   "metadata": {},
   "outputs": [
    {
     "data": {
      "text/plain": [
       "0.9999668720598953"
      ]
     },
     "execution_count": 150,
     "metadata": {},
     "output_type": "execute_result"
    }
   ],
   "source": [
    "len(data[cols].dropna())/len(data)"
   ]
  },
  {
   "cell_type": "code",
   "execution_count": null,
   "id": "4659b2bd",
   "metadata": {},
   "outputs": [],
   "source": [
    "# hence we drop the rows"
   ]
  },
  {
   "cell_type": "code",
   "execution_count": 152,
   "id": "b42ae1fa",
   "metadata": {},
   "outputs": [
    {
     "data": {
      "text/plain": [
       "((150930, 11), (150925, 2))"
      ]
     },
     "execution_count": 152,
     "metadata": {},
     "output_type": "execute_result"
    }
   ],
   "source": [
    "new_data=data[cols].dropna()\n",
    "data.shape,new_data.shape"
   ]
  },
  {
   "cell_type": "code",
   "execution_count": 160,
   "id": "6ca76420",
   "metadata": {},
   "outputs": [
    {
     "data": {
      "text/html": [
       "<div>\n",
       "<style scoped>\n",
       "    .dataframe tbody tr th:only-of-type {\n",
       "        vertical-align: middle;\n",
       "    }\n",
       "\n",
       "    .dataframe tbody tr th {\n",
       "        vertical-align: top;\n",
       "    }\n",
       "\n",
       "    .dataframe thead th {\n",
       "        text-align: right;\n",
       "    }\n",
       "</style>\n",
       "<table border=\"1\" class=\"dataframe\">\n",
       "  <thead>\n",
       "    <tr style=\"text-align: right;\">\n",
       "      <th></th>\n",
       "      <th>original</th>\n",
       "      <th>after removing</th>\n",
       "    </tr>\n",
       "  </thead>\n",
       "  <tbody>\n",
       "    <tr>\n",
       "      <th>US</th>\n",
       "      <td>0.413417</td>\n",
       "      <td>0.413431</td>\n",
       "    </tr>\n",
       "    <tr>\n",
       "      <th>Italy</th>\n",
       "      <td>0.155556</td>\n",
       "      <td>0.155561</td>\n",
       "    </tr>\n",
       "    <tr>\n",
       "      <th>France</th>\n",
       "      <td>0.139787</td>\n",
       "      <td>0.139791</td>\n",
       "    </tr>\n",
       "    <tr>\n",
       "      <th>Spain</th>\n",
       "      <td>0.054780</td>\n",
       "      <td>0.054782</td>\n",
       "    </tr>\n",
       "    <tr>\n",
       "      <th>Chile</th>\n",
       "      <td>0.038534</td>\n",
       "      <td>0.038536</td>\n",
       "    </tr>\n",
       "    <tr>\n",
       "      <th>Argentina</th>\n",
       "      <td>0.037309</td>\n",
       "      <td>0.037310</td>\n",
       "    </tr>\n",
       "    <tr>\n",
       "      <th>Portugal</th>\n",
       "      <td>0.035261</td>\n",
       "      <td>0.035263</td>\n",
       "    </tr>\n",
       "    <tr>\n",
       "      <th>Australia</th>\n",
       "      <td>0.032843</td>\n",
       "      <td>0.032844</td>\n",
       "    </tr>\n",
       "    <tr>\n",
       "      <th>New Zealand</th>\n",
       "      <td>0.021997</td>\n",
       "      <td>0.021998</td>\n",
       "    </tr>\n",
       "    <tr>\n",
       "      <th>Austria</th>\n",
       "      <td>0.020254</td>\n",
       "      <td>0.020255</td>\n",
       "    </tr>\n",
       "    <tr>\n",
       "      <th>Germany</th>\n",
       "      <td>0.016246</td>\n",
       "      <td>0.016246</td>\n",
       "    </tr>\n",
       "    <tr>\n",
       "      <th>South Africa</th>\n",
       "      <td>0.014961</td>\n",
       "      <td>0.014961</td>\n",
       "    </tr>\n",
       "    <tr>\n",
       "      <th>Greece</th>\n",
       "      <td>0.005857</td>\n",
       "      <td>0.005857</td>\n",
       "    </tr>\n",
       "    <tr>\n",
       "      <th>Israel</th>\n",
       "      <td>0.004174</td>\n",
       "      <td>0.004174</td>\n",
       "    </tr>\n",
       "    <tr>\n",
       "      <th>Hungary</th>\n",
       "      <td>0.001531</td>\n",
       "      <td>0.001531</td>\n",
       "    </tr>\n",
       "    <tr>\n",
       "      <th>Canada</th>\n",
       "      <td>0.001299</td>\n",
       "      <td>0.001299</td>\n",
       "    </tr>\n",
       "    <tr>\n",
       "      <th>Romania</th>\n",
       "      <td>0.000921</td>\n",
       "      <td>0.000921</td>\n",
       "    </tr>\n",
       "    <tr>\n",
       "      <th>Slovenia</th>\n",
       "      <td>0.000623</td>\n",
       "      <td>0.000623</td>\n",
       "    </tr>\n",
       "    <tr>\n",
       "      <th>Uruguay</th>\n",
       "      <td>0.000610</td>\n",
       "      <td>0.000610</td>\n",
       "    </tr>\n",
       "    <tr>\n",
       "      <th>Croatia</th>\n",
       "      <td>0.000590</td>\n",
       "      <td>0.000590</td>\n",
       "    </tr>\n",
       "    <tr>\n",
       "      <th>Bulgaria</th>\n",
       "      <td>0.000510</td>\n",
       "      <td>0.000510</td>\n",
       "    </tr>\n",
       "    <tr>\n",
       "      <th>Moldova</th>\n",
       "      <td>0.000470</td>\n",
       "      <td>0.000470</td>\n",
       "    </tr>\n",
       "    <tr>\n",
       "      <th>Mexico</th>\n",
       "      <td>0.000417</td>\n",
       "      <td>0.000417</td>\n",
       "    </tr>\n",
       "    <tr>\n",
       "      <th>Turkey</th>\n",
       "      <td>0.000345</td>\n",
       "      <td>0.000345</td>\n",
       "    </tr>\n",
       "    <tr>\n",
       "      <th>Georgia</th>\n",
       "      <td>0.000285</td>\n",
       "      <td>0.000285</td>\n",
       "    </tr>\n",
       "    <tr>\n",
       "      <th>Lebanon</th>\n",
       "      <td>0.000245</td>\n",
       "      <td>0.000245</td>\n",
       "    </tr>\n",
       "    <tr>\n",
       "      <th>Cyprus</th>\n",
       "      <td>0.000205</td>\n",
       "      <td>0.000205</td>\n",
       "    </tr>\n",
       "    <tr>\n",
       "      <th>Brazil</th>\n",
       "      <td>0.000166</td>\n",
       "      <td>0.000166</td>\n",
       "    </tr>\n",
       "    <tr>\n",
       "      <th>Macedonia</th>\n",
       "      <td>0.000106</td>\n",
       "      <td>0.000106</td>\n",
       "    </tr>\n",
       "    <tr>\n",
       "      <th>Serbia</th>\n",
       "      <td>0.000093</td>\n",
       "      <td>0.000093</td>\n",
       "    </tr>\n",
       "    <tr>\n",
       "      <th>Morocco</th>\n",
       "      <td>0.000080</td>\n",
       "      <td>0.000080</td>\n",
       "    </tr>\n",
       "    <tr>\n",
       "      <th>England</th>\n",
       "      <td>0.000060</td>\n",
       "      <td>0.000060</td>\n",
       "    </tr>\n",
       "    <tr>\n",
       "      <th>Luxembourg</th>\n",
       "      <td>0.000060</td>\n",
       "      <td>0.000060</td>\n",
       "    </tr>\n",
       "    <tr>\n",
       "      <th>Lithuania</th>\n",
       "      <td>0.000053</td>\n",
       "      <td>0.000053</td>\n",
       "    </tr>\n",
       "    <tr>\n",
       "      <th>India</th>\n",
       "      <td>0.000053</td>\n",
       "      <td>0.000053</td>\n",
       "    </tr>\n",
       "    <tr>\n",
       "      <th>Czech Republic</th>\n",
       "      <td>0.000040</td>\n",
       "      <td>0.000040</td>\n",
       "    </tr>\n",
       "    <tr>\n",
       "      <th>Ukraine</th>\n",
       "      <td>0.000033</td>\n",
       "      <td>0.000033</td>\n",
       "    </tr>\n",
       "    <tr>\n",
       "      <th>Switzerland</th>\n",
       "      <td>0.000027</td>\n",
       "      <td>0.000027</td>\n",
       "    </tr>\n",
       "    <tr>\n",
       "      <th>South Korea</th>\n",
       "      <td>0.000027</td>\n",
       "      <td>0.000027</td>\n",
       "    </tr>\n",
       "    <tr>\n",
       "      <th>Bosnia and Herzegovina</th>\n",
       "      <td>0.000027</td>\n",
       "      <td>0.000027</td>\n",
       "    </tr>\n",
       "    <tr>\n",
       "      <th>China</th>\n",
       "      <td>0.000020</td>\n",
       "      <td>0.000020</td>\n",
       "    </tr>\n",
       "    <tr>\n",
       "      <th>Egypt</th>\n",
       "      <td>0.000020</td>\n",
       "      <td>0.000020</td>\n",
       "    </tr>\n",
       "    <tr>\n",
       "      <th>Slovakia</th>\n",
       "      <td>0.000020</td>\n",
       "      <td>0.000020</td>\n",
       "    </tr>\n",
       "    <tr>\n",
       "      <th>Tunisia</th>\n",
       "      <td>0.000013</td>\n",
       "      <td>0.000013</td>\n",
       "    </tr>\n",
       "    <tr>\n",
       "      <th>Albania</th>\n",
       "      <td>0.000013</td>\n",
       "      <td>0.000013</td>\n",
       "    </tr>\n",
       "    <tr>\n",
       "      <th>Montenegro</th>\n",
       "      <td>0.000013</td>\n",
       "      <td>0.000013</td>\n",
       "    </tr>\n",
       "    <tr>\n",
       "      <th>Japan</th>\n",
       "      <td>0.000013</td>\n",
       "      <td>0.000013</td>\n",
       "    </tr>\n",
       "    <tr>\n",
       "      <th>US-France</th>\n",
       "      <td>0.000007</td>\n",
       "      <td>0.000007</td>\n",
       "    </tr>\n",
       "  </tbody>\n",
       "</table>\n",
       "</div>"
      ],
      "text/plain": [
       "                        original  after removing\n",
       "US                      0.413417        0.413431\n",
       "Italy                   0.155556        0.155561\n",
       "France                  0.139787        0.139791\n",
       "Spain                   0.054780        0.054782\n",
       "Chile                   0.038534        0.038536\n",
       "Argentina               0.037309        0.037310\n",
       "Portugal                0.035261        0.035263\n",
       "Australia               0.032843        0.032844\n",
       "New Zealand             0.021997        0.021998\n",
       "Austria                 0.020254        0.020255\n",
       "Germany                 0.016246        0.016246\n",
       "South Africa            0.014961        0.014961\n",
       "Greece                  0.005857        0.005857\n",
       "Israel                  0.004174        0.004174\n",
       "Hungary                 0.001531        0.001531\n",
       "Canada                  0.001299        0.001299\n",
       "Romania                 0.000921        0.000921\n",
       "Slovenia                0.000623        0.000623\n",
       "Uruguay                 0.000610        0.000610\n",
       "Croatia                 0.000590        0.000590\n",
       "Bulgaria                0.000510        0.000510\n",
       "Moldova                 0.000470        0.000470\n",
       "Mexico                  0.000417        0.000417\n",
       "Turkey                  0.000345        0.000345\n",
       "Georgia                 0.000285        0.000285\n",
       "Lebanon                 0.000245        0.000245\n",
       "Cyprus                  0.000205        0.000205\n",
       "Brazil                  0.000166        0.000166\n",
       "Macedonia               0.000106        0.000106\n",
       "Serbia                  0.000093        0.000093\n",
       "Morocco                 0.000080        0.000080\n",
       "England                 0.000060        0.000060\n",
       "Luxembourg              0.000060        0.000060\n",
       "Lithuania               0.000053        0.000053\n",
       "India                   0.000053        0.000053\n",
       "Czech Republic          0.000040        0.000040\n",
       "Ukraine                 0.000033        0.000033\n",
       "Switzerland             0.000027        0.000027\n",
       "South Korea             0.000027        0.000027\n",
       "Bosnia and Herzegovina  0.000027        0.000027\n",
       "China                   0.000020        0.000020\n",
       "Egypt                   0.000020        0.000020\n",
       "Slovakia                0.000020        0.000020\n",
       "Tunisia                 0.000013        0.000013\n",
       "Albania                 0.000013        0.000013\n",
       "Montenegro              0.000013        0.000013\n",
       "Japan                   0.000013        0.000013\n",
       "US-France               0.000007        0.000007"
      ]
     },
     "execution_count": 160,
     "metadata": {},
     "output_type": "execute_result"
    }
   ],
   "source": [
    "#for categorical data we will just try to see if the ratios of the categorical column is still maintained.\n",
    "temp=pd.concat([data['country'].value_counts()/len(data),new_data['country'].value_counts()/len(new_data)], axis=1)\n",
    "temp.columns=['original','after removing']\n",
    "temp"
   ]
  },
  {
   "cell_type": "code",
   "execution_count": 166,
   "id": "4701505f",
   "metadata": {},
   "outputs": [],
   "source": [
    "# hardly any difference. so no problem in removing rows\n",
    "data=data.dropna(subset=['country','province'],axis=0)"
   ]
  },
  {
   "cell_type": "code",
   "execution_count": 167,
   "id": "9571bd6f",
   "metadata": {},
   "outputs": [
    {
     "data": {
      "text/plain": [
       "Unnamed: 0      0.000000\n",
       "country         0.000000\n",
       "description     0.000000\n",
       "designation    30.303131\n",
       "points          0.000000\n",
       "price           9.074043\n",
       "province        0.000000\n",
       "region_1       16.600961\n",
       "region_2       59.613715\n",
       "variety         0.000000\n",
       "winery          0.000000\n",
       "dtype: float64"
      ]
     },
     "execution_count": 167,
     "metadata": {},
     "output_type": "execute_result"
    }
   ],
   "source": [
    "data.isnull().mean()*100"
   ]
  },
  {
   "cell_type": "markdown",
   "id": "7e6e41a7",
   "metadata": {},
   "source": [
    "#### 2. Filling Values"
   ]
  },
  {
   "cell_type": "markdown",
   "id": "710c6927",
   "metadata": {},
   "source": [
    "##### region1, region2 has a lot of missing values. Using mode to fill"
   ]
  },
  {
   "cell_type": "code",
   "execution_count": 201,
   "id": "d2b1ee98",
   "metadata": {},
   "outputs": [
    {
     "data": {
      "text/plain": [
       "62397"
      ]
     },
     "execution_count": 201,
     "metadata": {},
     "output_type": "execute_result"
    }
   ],
   "source": [
    "data.groupby(['country'])['region_1'].size().max()"
   ]
  },
  {
   "cell_type": "code",
   "execution_count": 196,
   "id": "e8cc030d",
   "metadata": {},
   "outputs": [
    {
     "data": {
      "text/plain": [
       "6209"
      ]
     },
     "execution_count": 196,
     "metadata": {},
     "output_type": "execute_result"
    }
   ],
   "source": [
    "mode"
   ]
  },
  {
   "cell_type": "code",
   "execution_count": null,
   "id": "34f4835f",
   "metadata": {},
   "outputs": [],
   "source": []
  },
  {
   "cell_type": "code",
   "execution_count": null,
   "id": "95c71dfd",
   "metadata": {},
   "outputs": [],
   "source": []
  },
  {
   "cell_type": "code",
   "execution_count": null,
   "id": "9d7b8ca3",
   "metadata": {},
   "outputs": [],
   "source": []
  },
  {
   "cell_type": "code",
   "execution_count": 175,
   "id": "853aab5c",
   "metadata": {},
   "outputs": [],
   "source": [
    "X=data.drop(columns=['points'])\n",
    "y=data['points']\n",
    "#first we do train test split\n",
    "X_train,X_test,y_train,y_test=train_test_split(X,y,test_size=0.2,random_state=2)"
   ]
  },
  {
   "cell_type": "code",
   "execution_count": 176,
   "id": "fb09298a",
   "metadata": {},
   "outputs": [
    {
     "data": {
      "text/plain": [
       "((120740, 10), (30185, 10))"
      ]
     },
     "execution_count": 176,
     "metadata": {},
     "output_type": "execute_result"
    }
   ],
   "source": [
    "X_train.shape, X_test.shape"
   ]
  },
  {
   "cell_type": "code",
   "execution_count": 178,
   "id": "d953fd71",
   "metadata": {},
   "outputs": [
    {
     "data": {
      "text/plain": [
       "Unnamed: 0      0.000000\n",
       "country         0.000000\n",
       "description     0.000000\n",
       "designation    30.225277\n",
       "price           9.106344\n",
       "province        0.000000\n",
       "region_1       16.575286\n",
       "region_2       59.531224\n",
       "variety         0.000000\n",
       "winery          0.000000\n",
       "dtype: float64"
      ]
     },
     "execution_count": 178,
     "metadata": {},
     "output_type": "execute_result"
    }
   ],
   "source": [
    "X_train.isnull().mean()*100"
   ]
  },
  {
   "cell_type": "code",
   "execution_count": 1,
   "id": "9079f845",
   "metadata": {},
   "outputs": [],
   "source": [
    "import sketch"
   ]
  },
  {
   "cell_type": "code",
   "execution_count": 12,
   "id": "12ad42d3",
   "metadata": {
    "scrolled": true
   },
   "outputs": [
    {
     "data": {
      "text/html": [
       "<div style=\"display:flex;flex-direction:row;justify-content:space-between;\">\n",
       "                <pre style=\"width: 100%; white-space: pre-wrap;\" id=\"67e1030a-f4a7-4348-8dd6-a58f4738542b\">\n",
       "# import libraries\n",
       "import matplotlib.pyplot as plt\n",
       "import seaborn as sns\n",
       "\n",
       "# create a dataframe with the required columns\n",
       "df = data[['country', 'points']].groupby('country').max().reset_index()\n",
       "\n",
       "# plot the visualization\n",
       "sns.barplot(x='country', y='points', data=df.sort_values(by='points', ascending=False).head(3))\n",
       "plt.title('Top 3 Countries with Maximum Points')\n",
       "plt.show()\n",
       "</pre>\n",
       "                <button style=\"height: fit-content;\" onclick=\"navigator.clipboard.writeText(JSON.parse(atob(`IlxuIyBpbXBvcnQgbGlicmFyaWVzXG5pbXBvcnQgbWF0cGxvdGxpYi5weXBsb3QgYXMgcGx0XG5pbXBvcnQgc2VhYm9ybiBhcyBzbnNcblxuIyBjcmVhdGUgYSBkYXRhZnJhbWUgd2l0aCB0aGUgcmVxdWlyZWQgY29sdW1uc1xuZGYgPSBkYXRhW1snY291bnRyeScsICdwb2ludHMnXV0uZ3JvdXBieSgnY291bnRyeScpLm1heCgpLnJlc2V0X2luZGV4KClcblxuIyBwbG90IHRoZSB2aXN1YWxpemF0aW9uXG5zbnMuYmFycGxvdCh4PSdjb3VudHJ5JywgeT0ncG9pbnRzJywgZGF0YT1kZi5zb3J0X3ZhbHVlcyhieT0ncG9pbnRzJywgYXNjZW5kaW5nPUZhbHNlKS5oZWFkKDMpKVxucGx0LnRpdGxlKCdUb3AgMyBDb3VudHJpZXMgd2l0aCBNYXhpbXVtIFBvaW50cycpXG5wbHQuc2hvdygpXG4i`)))\">Copy</button>\n",
       "                </div>"
      ],
      "text/plain": [
       "<IPython.core.display.HTML object>"
      ]
     },
     "metadata": {},
     "output_type": "display_data"
    }
   ],
   "source": [
    "data.sketch.howto('give me visualization of top 3 country with maximum number of maximum points')"
   ]
  },
  {
   "cell_type": "code",
   "execution_count": 13,
   "id": "3ca3d085",
   "metadata": {},
   "outputs": [
    {
     "data": {
      "image/png": "[encoded data removed]",
      "text/plain": [
       "<Figure size 640x480 with 1 Axes>"
      ]
     },
     "metadata": {},
     "output_type": "display_data"
    }
   ],
   "source": [
    "# import libraries\n",
    "import matplotlib.pyplot as plt\n",
    "import seaborn as sns\n",
    "\n",
    "# create a dataframe with the required columns\n",
    "df = data[['country', 'points']].groupby('country').max().reset_index()\n",
    "\n",
    "# plot the visualization\n",
    "sns.barplot(x='country', y='points', data=df.sort_values(by='points', ascending=False).head(3))\n",
    "plt.title('Top 3 Countries with Maximum Points')\n",
    "plt.show()"
   ]
  },
  {
   "cell_type": "code",
   "execution_count": null,
   "id": "3225ee0d",
   "metadata": {},
   "outputs": [],
   "source": [
    "data.pandasprofiling"
   ]
  },
  {
   "cell_type": "code",
   "execution_count": 15,
   "id": "db84678f",
   "metadata": {},
   "outputs": [
    {
     "ename": "SyntaxError",
     "evalue": "invalid syntax (4101207405.py, line 1)",
     "output_type": "error",
     "traceback": [
      "\u001b[1;36m  Cell \u001b[1;32mIn[15], line 1\u001b[1;36m\u001b[0m\n\u001b[1;33m    import pandas-profiling\u001b[0m\n\u001b[1;37m                 ^\u001b[0m\n\u001b[1;31mSyntaxError\u001b[0m\u001b[1;31m:\u001b[0m invalid syntax\n"
     ]
    }
   ],
   "source": []
  },
  {
   "cell_type": "code",
   "execution_count": 130,
   "id": "365935a9",
   "metadata": {},
   "outputs": [],
   "source": [
    "# drop duplicates\n",
    "# data.drop_duplicates(inplace=True)\n",
    "# data.info()"
   ]
  }
 ],
 "metadata": {
  "kernelspec": {
   "display_name": "Python 3 (ipykernel)",
   "language": "python",
   "name": "python3"
  },
  "language_info": {
   "codemirror_mode": {
    "name": "ipython",
    "version": 3
   },
   "file_extension": ".py",
   "mimetype": "text/x-python",
   "name": "python",
   "nbconvert_exporter": "python",
   "pygments_lexer": "ipython3",
   "version": "3.10.9"
  }
 },
 "nbformat": 4,
 "nbformat_minor": 5
}
